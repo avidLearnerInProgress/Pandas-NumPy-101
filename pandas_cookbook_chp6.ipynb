{
 "cells": [
  {
   "cell_type": "code",
   "execution_count": 2,
   "metadata": {},
   "outputs": [],
   "source": [
    "#indexing\n",
    "import numpy as np \n",
    "import pandas as pd \n",
    "import matplotlib.pyplot as plt"
   ]
  },
  {
   "cell_type": "code",
   "execution_count": 3,
   "metadata": {},
   "outputs": [],
   "source": [
    "#All indexes except MultiIndex are 1-D Data structures --. combining functionality of Python set and ndarrays\n",
    "#indexes are immutable and cannot be changed\n",
    "#indexes are similar to Python sets - implemented using hash tables.\n",
    "\n",
    "college = pd.read_csv('data/college.csv')\n",
    "cols = college.columns\n",
    "rws = college.values"
   ]
  },
  {
   "cell_type": "code",
   "execution_count": 6,
   "metadata": {},
   "outputs": [],
   "source": [
    "#cartesian product\n",
    "\n",
    "s1 = pd.Series(index = list('aaab'), data = np.arange(4))\n",
    "s2 = pd.Series(index = list('caaaab'), data = np.arange(6))"
   ]
  }
 ],
 "metadata": {
  "kernelspec": {
   "display_name": "Python 3",
   "language": "python",
   "name": "python3"
  },
  "language_info": {
   "codemirror_mode": {
    "name": "ipython",
    "version": 3
   },
   "file_extension": ".py",
   "mimetype": "text/x-python",
   "name": "python",
   "nbconvert_exporter": "python",
   "pygments_lexer": "ipython3",
   "version": "3.6.7"
  }
 },
 "nbformat": 4,
 "nbformat_minor": 2
}
