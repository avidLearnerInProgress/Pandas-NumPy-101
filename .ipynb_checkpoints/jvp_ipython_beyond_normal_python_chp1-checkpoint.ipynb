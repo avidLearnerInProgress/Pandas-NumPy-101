{
 "cells": [
  {
   "cell_type": "code",
   "execution_count": 2,
   "metadata": {},
   "outputs": [
    {
     "name": "stdout",
     "output_type": "stream",
     "text": [
      "Help on built-in function len in module builtins:\n",
      "\n",
      "len(obj, /)\n",
      "    Return the number of items in a container.\n",
      "\n"
     ]
    }
   ],
   "source": [
    "help(len)\n",
    "len?"
   ]
  },
  {
   "cell_type": "code",
   "execution_count": 7,
   "metadata": {},
   "outputs": [],
   "source": [
    "l = [1,2,3]\n",
    "l.insert?\n",
    "l?"
   ]
  },
  {
   "cell_type": "code",
   "execution_count": 6,
   "metadata": {},
   "outputs": [],
   "source": [
    "def square(a):\n",
    "    '''Returns square of a'''\n",
    "    return a**2\n",
    "\n",
    "square? #returns help\n",
    "square?? #returns source code\n",
    "len?? #doesnt display source code for some complicated c written below it"
   ]
  },
  {
   "cell_type": "code",
   "execution_count": 8,
   "metadata": {},
   "outputs": [],
   "source": [
    "#l._ # + <TAB> lists all the private and special methods\n",
    "#from itertools import co # + tab\n",
    "\n",
    "*Warning? #wildcard matching -- lists every object in namespace that ends with warning"
   ]
  },
  {
   "cell_type": "code",
   "execution_count": 9,
   "metadata": {},
   "outputs": [],
   "source": [
    "str.*find? #results rfind and find two methods"
   ]
  },
  {
   "cell_type": "code",
   "execution_count": 13,
   "metadata": {},
   "outputs": [],
   "source": [
    "def testpaste(x):\n",
    "    return x"
   ]
  },
  {
   "cell_type": "code",
   "execution_count": 14,
   "metadata": {},
   "outputs": [
    {
     "name": "stdout",
     "output_type": "stream",
     "text": [
      "294 µs ± 2.2 µs per loop (mean ± std. dev. of 7 runs, 1000 loops each)\n"
     ]
    }
   ],
   "source": [
    "%timeit L = [N **2 for N in range(1000)] #single percent handles one line of timeit"
   ]
  },
  {
   "cell_type": "code",
   "execution_count": 17,
   "metadata": {},
   "outputs": [
    {
     "name": "stdout",
     "output_type": "stream",
     "text": [
      "328 µs ± 1.05 µs per loop (mean ± std. dev. of 7 runs, 1000 loops each)\n"
     ]
    }
   ],
   "source": [
    "%%timeit \n",
    "L = []\n",
    "for n in range(1000):\n",
    "    L.append(n ** 2)"
   ]
  },
  {
   "cell_type": "code",
   "execution_count": 19,
   "metadata": {},
   "outputs": [
    {
     "data": {
      "application/json": {
       "cell": {
        "!": "OSMagics",
        "HTML": "Other",
        "SVG": "Other",
        "bash": "Other",
        "capture": "ExecutionMagics",
        "cmd": "Other",
        "debug": "ExecutionMagics",
        "file": "Other",
        "html": "DisplayMagics",
        "javascript": "DisplayMagics",
        "js": "DisplayMagics",
        "latex": "DisplayMagics",
        "markdown": "DisplayMagics",
        "perl": "Other",
        "prun": "ExecutionMagics",
        "pypy": "Other",
        "python": "Other",
        "python2": "Other",
        "python3": "Other",
        "ruby": "Other",
        "script": "ScriptMagics",
        "sh": "Other",
        "svg": "DisplayMagics",
        "sx": "OSMagics",
        "system": "OSMagics",
        "time": "ExecutionMagics",
        "timeit": "ExecutionMagics",
        "writefile": "OSMagics"
       },
       "line": {
        "alias": "OSMagics",
        "alias_magic": "BasicMagics",
        "autoawait": "AsyncMagics",
        "autocall": "AutoMagics",
        "automagic": "AutoMagics",
        "autosave": "KernelMagics",
        "bookmark": "OSMagics",
        "cd": "OSMagics",
        "clear": "KernelMagics",
        "cls": "KernelMagics",
        "colors": "BasicMagics",
        "config": "ConfigMagics",
        "connect_info": "KernelMagics",
        "copy": "Other",
        "ddir": "Other",
        "debug": "ExecutionMagics",
        "dhist": "OSMagics",
        "dirs": "OSMagics",
        "doctest_mode": "BasicMagics",
        "echo": "Other",
        "ed": "Other",
        "edit": "KernelMagics",
        "env": "OSMagics",
        "gui": "BasicMagics",
        "hist": "Other",
        "history": "HistoryMagics",
        "killbgscripts": "ScriptMagics",
        "ldir": "Other",
        "less": "KernelMagics",
        "load": "CodeMagics",
        "load_ext": "ExtensionMagics",
        "loadpy": "CodeMagics",
        "logoff": "LoggingMagics",
        "logon": "LoggingMagics",
        "logstart": "LoggingMagics",
        "logstate": "LoggingMagics",
        "logstop": "LoggingMagics",
        "ls": "Other",
        "lsmagic": "BasicMagics",
        "macro": "ExecutionMagics",
        "magic": "BasicMagics",
        "matplotlib": "PylabMagics",
        "mkdir": "Other",
        "more": "KernelMagics",
        "notebook": "BasicMagics",
        "page": "BasicMagics",
        "pastebin": "CodeMagics",
        "pdb": "ExecutionMagics",
        "pdef": "NamespaceMagics",
        "pdoc": "NamespaceMagics",
        "pfile": "NamespaceMagics",
        "pinfo": "NamespaceMagics",
        "pinfo2": "NamespaceMagics",
        "pip": "BasicMagics",
        "popd": "OSMagics",
        "pprint": "BasicMagics",
        "precision": "BasicMagics",
        "prun": "ExecutionMagics",
        "psearch": "NamespaceMagics",
        "psource": "NamespaceMagics",
        "pushd": "OSMagics",
        "pwd": "OSMagics",
        "pycat": "OSMagics",
        "pylab": "PylabMagics",
        "qtconsole": "KernelMagics",
        "quickref": "BasicMagics",
        "recall": "HistoryMagics",
        "rehashx": "OSMagics",
        "reload_ext": "ExtensionMagics",
        "ren": "Other",
        "rep": "Other",
        "rerun": "HistoryMagics",
        "reset": "NamespaceMagics",
        "reset_selective": "NamespaceMagics",
        "rmdir": "Other",
        "run": "ExecutionMagics",
        "save": "CodeMagics",
        "sc": "OSMagics",
        "set_env": "OSMagics",
        "store": "StoreMagics",
        "sx": "OSMagics",
        "system": "OSMagics",
        "tb": "ExecutionMagics",
        "time": "ExecutionMagics",
        "timeit": "ExecutionMagics",
        "unalias": "OSMagics",
        "unload_ext": "ExtensionMagics",
        "who": "NamespaceMagics",
        "who_ls": "NamespaceMagics",
        "whos": "NamespaceMagics",
        "xdel": "NamespaceMagics",
        "xmode": "BasicMagics"
       }
      },
      "text/plain": [
       "Available line magics:\n",
       "%alias  %alias_magic  %autoawait  %autocall  %automagic  %autosave  %bookmark  %cd  %clear  %cls  %colors  %config  %connect_info  %copy  %ddir  %debug  %dhist  %dirs  %doctest_mode  %echo  %ed  %edit  %env  %gui  %hist  %history  %killbgscripts  %ldir  %less  %load  %load_ext  %loadpy  %logoff  %logon  %logstart  %logstate  %logstop  %ls  %lsmagic  %macro  %magic  %matplotlib  %mkdir  %more  %notebook  %page  %pastebin  %pdb  %pdef  %pdoc  %pfile  %pinfo  %pinfo2  %popd  %pprint  %precision  %prun  %psearch  %psource  %pushd  %pwd  %pycat  %pylab  %qtconsole  %quickref  %recall  %rehashx  %reload_ext  %ren  %rep  %rerun  %reset  %reset_selective  %rmdir  %run  %save  %sc  %set_env  %store  %sx  %system  %tb  %time  %timeit  %unalias  %unload_ext  %who  %who_ls  %whos  %xdel  %xmode\n",
       "\n",
       "Available cell magics:\n",
       "%%!  %%HTML  %%SVG  %%bash  %%capture  %%cmd  %%debug  %%file  %%html  %%javascript  %%js  %%latex  %%markdown  %%perl  %%prun  %%pypy  %%python  %%python2  %%python3  %%ruby  %%script  %%sh  %%svg  %%sx  %%system  %%time  %%timeit  %%writefile\n",
       "\n",
       "Automagic is ON, % prefix IS NOT needed for line magics."
      ]
     },
     "execution_count": 19,
     "metadata": {},
     "output_type": "execute_result"
    }
   ],
   "source": [
    "%magic\n",
    "%lsmagic"
   ]
  },
  {
   "cell_type": "code",
   "execution_count": 23,
   "metadata": {},
   "outputs": [
    {
     "name": "stdout",
     "output_type": "stream",
     "text": [
      "['', 'help(len)', \"help(len)\\nget_ipython().run_line_magic('pinfo', 'len')\", \"l = [1,2,3]\\nget_ipython().run_line_magic('pinfo', 'l.insert')\", \"l = [1,2,3]\\nget_ipython().run_line_magic('pinfo', 'l.insert')\\nget_ipython().run_line_magic('pinfo', 'l')\", \"def square(a):\\n    '''Returns square of a'''\\n    return a**2\\n\\nget_ipython().run_line_magic('pinfo', 'square')\", \"def square(a):\\n    '''Returns square of a'''\\n    return a**2\\n\\nget_ipython().run_line_magic('pinfo', 'square')\\nget_ipython().run_line_magic('pinfo2', 'square')\", \"l = [1,2,3]\\nget_ipython().run_line_magic('pinfo', 'l.insert')\\nget_ipython().run_line_magic('pinfo', 'l')\\nget_ipython().run_line_magic('pinfo2', 'len')\", \"#l._ # + <TAB> lists all the private and special methods\\n#from itertools import co # + tab\\n\\nget_ipython().run_line_magic('psearch', '*Warning')\", \"get_ipython().run_line_magic('psearch', 'str.*find')\", \"def testpaste(x):\\n    return x\\n\\nget_ipython().run_line_magic('pastebin', '')\", \"get_ipython().run_line_magic('paste', '')\", \"get_ipython().run_line_magic('cpaste', '')\", 'def testpaste(x):\\n    return x', \"get_ipython().run_line_magic('timeit', 'L = [N **2 for N in range(1000)]')\", \"get_ipython().run_cell_magic('timeit', '', 'L = []\\\\nfor n in range(100):\\\\n    L.append(n)\\\\n')\", \"get_ipython().run_cell_magic('timeit', '', 'L = []\\\\nfor n in range(100):\\\\n    L.append(n ** 2)\\\\n')\", \"get_ipython().run_cell_magic('timeit', '', 'L = []\\\\nfor n in range(1000):\\\\n    L.append(n ** 2)\\\\n')\", \"get_ipython().run_line_magic('magic', '')\", \"get_ipython().run_line_magic('magic', '')\\nget_ipython().run_line_magic('lsmagic', '')\", 'import math\\nmath.sin(2)', 'import math\\nmath.sin(2)\\nmath.cos(4)', 'import math\\nmath.sin(2)\\nmath.cos(4)\\n\\nprint(In)', 'import math\\nmath.sin(2)\\nmath.cos(4)\\n\\nprint(In) #In object is a list which keeps track of all the command fired uptil now\\nprint(Out) #same with out for keeping track of output commands']\n",
      "{19: <IPython.core.magics.basic.MagicsDisplay object at 0x000002669EFF8978>, 20: 0.9092974268256817, 21: -0.6536436208636119}\n"
     ]
    }
   ],
   "source": [
    "import math\n",
    "math.sin(2)\n",
    "math.cos(4)\n",
    "\n",
    "print(In) #In object is a list which keeps track of all the command fired uptil now\n",
    "print(Out) #same with out for keeping track of output commands"
   ]
  },
  {
   "cell_type": "code",
   "execution_count": 25,
   "metadata": {},
   "outputs": [
    {
     "name": "stdout",
     "output_type": "stream",
     "text": [
      "-0.6536436208636119\n",
      "0.9092974268256817\n"
     ]
    }
   ],
   "source": [
    "print(_) #prints output of last statement\n",
    "print(__) #second last output and so on..."
   ]
  },
  {
   "cell_type": "code",
   "execution_count": 26,
   "metadata": {},
   "outputs": [],
   "source": [
    "#TO suppress output add semi-colon\n",
    "math.sin(2) + math.sin(3);"
   ]
  },
  {
   "cell_type": "code",
   "execution_count": 29,
   "metadata": {},
   "outputs": [
    {
     "name": "stdout",
     "output_type": "stream",
     "text": [
      "   1: help(len)\n",
      "   2:\n",
      "help(len)\n",
      "len?\n",
      "   3:\n",
      "l = [1,2,3]\n",
      "l.insert?\n",
      "   4:\n",
      "l = [1,2,3]\n",
      "l.insert?\n",
      "l?\n",
      "=== Executing: ===\n",
      "%history -n 1-4\n",
      "=== Output: ===\n",
      "   1: help(len)\n",
      "   2:\n",
      "help(len)\n",
      "len?\n",
      "   3:\n",
      "l = [1,2,3]\n",
      "l.insert?\n",
      "   4:\n",
      "l = [1,2,3]\n",
      "l.insert?\n",
      "l?\n"
     ]
    }
   ],
   "source": [
    "%history -n 1-4 #accessing batch of previous inputs at once\n",
    "%rerun #rerun previous command"
   ]
  },
  {
   "cell_type": "code",
   "execution_count": 36,
   "metadata": {},
   "outputs": [
    {
     "name": "stdout",
     "output_type": "stream",
     "text": [
      "1.ipython_beyond_normal_python.ipynb\n",
      "/f/desktop_moved_20190320/prac_all/python_data_science_latest/jvp_python_datascience_handbook\n",
      "\"Hello world\"\n",
      "['1.ipython_beyond_normal_python.ipynb']\n",
      "<class 'IPython.utils.text.SList'>\n"
     ]
    }
   ],
   "source": [
    "#execute shell within Jupyter/IPython\n",
    "!ls\n",
    "!pwd\n",
    "!echo \"Hello world\"\n",
    "\n",
    "contents = !ls\n",
    "print(contents)\n",
    "print(type(contents))"
   ]
  },
  {
   "cell_type": "code",
   "execution_count": 37,
   "metadata": {},
   "outputs": [
    {
     "name": "stdout",
     "output_type": "stream",
     "text": [
      "> \u001b[1;32m<ipython-input-32-0a5ccad5d950>\u001b[0m(1)\u001b[0;36m<module>\u001b[1;34m()\u001b[0m\n",
      "\u001b[1;32m----> 1 \u001b[1;33m\u001b[0mecho\u001b[0m\u001b[1;33m(\u001b[0m\u001b[0mHello\u001b[0m\u001b[1;33m)\u001b[0m\u001b[1;33m\u001b[0m\u001b[1;33m\u001b[0m\u001b[0m\n",
      "\u001b[0m\u001b[1;32m      2 \u001b[1;33m\u001b[0mget_ipython\u001b[0m\u001b[1;33m(\u001b[0m\u001b[1;33m)\u001b[0m\u001b[1;33m.\u001b[0m\u001b[0mrun_line_magic\u001b[0m\u001b[1;33m(\u001b[0m\u001b[1;34m'pwd'\u001b[0m\u001b[1;33m,\u001b[0m \u001b[1;34m''\u001b[0m\u001b[1;33m)\u001b[0m\u001b[1;33m\u001b[0m\u001b[1;33m\u001b[0m\u001b[0m\n",
      "\u001b[0m\n",
      "ipdb> a = \"x\"\n",
      "ipdb> print(a)\n",
      "*** NameError: name 'a' is not defined\n",
      "ipdb> def print(a):\n",
      "*** SyntaxError: unexpected EOF while parsing\n",
      "ipdb> exit\n"
     ]
    }
   ],
   "source": [
    "%debug"
   ]
  },
  {
   "cell_type": "code",
   "execution_count": 40,
   "metadata": {},
   "outputs": [],
   "source": [
    "#%timeit #time the python statements\n",
    "#%prun #profiler\n",
    "#%lprun #line by line profiler\n",
    "#%memit #measue memoy use of single statement\n",
    "#%mprun #run code with line by line memory profiler"
   ]
  },
  {
   "cell_type": "code",
   "execution_count": 42,
   "metadata": {},
   "outputs": [
    {
     "name": "stdout",
     "output_type": "stream",
     "text": [
      "1.49 ms ± 23.9 µs per loop (mean ± std. dev. of 7 runs, 1000 loops each)\n"
     ]
    }
   ],
   "source": [
    "import random\n",
    "L = [random.random() for i in range(100000)]\n",
    "%timeit L.sort()"
   ]
  },
  {
   "cell_type": "code",
   "execution_count": 45,
   "metadata": {},
   "outputs": [
    {
     "name": "stdout",
     "output_type": "stream",
     "text": [
      "Already sorted\n",
      "Wall time: 0 ns\n"
     ]
    }
   ],
   "source": [
    "print(\"Already sorted\")\n",
    "%time L.sort()"
   ]
  },
  {
   "cell_type": "code",
   "execution_count": 47,
   "metadata": {
    "scrolled": true
   },
   "outputs": [
    {
     "name": "stdout",
     "output_type": "stream",
     "text": [
      " "
     ]
    }
   ],
   "source": [
    "#timing statements in context\n",
    "def sum_of_list(N):\n",
    "    total = 0\n",
    "    for i in range(5):\n",
    "        L = [j ^ (j >> i) for j in range(N)]\n",
    "        total += sum(L)\n",
    "    return total\n",
    "\n",
    "%prun sum_of_list(10000)\n",
    "\n",
    "''' result:\n",
    "\n",
    " 14 function calls in 0.006 seconds\n",
    "\n",
    "   Ordered by: internal time\n",
    "\n",
    "   ncalls  tottime  percall  cumtime  percall filename:lineno(function)\n",
    "        5    0.005    0.001    0.005    0.001 <ipython-input-47-b96b4882c39d>:5(<listcomp>)\n",
    "        1    0.001    0.001    0.005    0.005 <ipython-input-47-b96b4882c39d>:2(sum_of_list)\n",
    "        5    0.000    0.000    0.000    0.000 {built-in method builtins.sum}\n",
    "        1    0.000    0.000    0.005    0.005 <string>:1(<module>)\n",
    "        1    0.000    0.000    0.006    0.006 {built-in method builtins.exec}\n",
    "        1    0.000    0.000    0.000    0.000 {method 'disable' of '_lsprof.Profiler' objects}\n",
    "'''"
   ]
  },
  {
   "cell_type": "code",
   "execution_count": 48,
   "metadata": {},
   "outputs": [],
   "source": [
    "%load_ext line_profiler"
   ]
  },
  {
   "cell_type": "code",
   "execution_count": 49,
   "metadata": {},
   "outputs": [],
   "source": [
    "%lprun -f sum_of_list sum_of_list(5000)\n",
    "\n",
    "'''\n",
    "imer unit: 5.68888e-07 s\n",
    "\n",
    "Total time: 0.0123147 s\n",
    "File: <ipython-input-47-b96b4882c39d>\n",
    "Function: sum_of_list at line 2\n",
    "\n",
    "Line #      Hits         Time  Per Hit   % Time  Line Contents\n",
    "==============================================================\n",
    "     2                                           def sum_of_list(N):\n",
    "     3         1         33.0     33.0      0.2      total = 0\n",
    "     4         6         25.0      4.2      0.1      for i in range(5):\n",
    "     5         5      20925.0   4185.0     96.7          L = [j ^ (j >> i) for j in range(N)]\n",
    "     6         5        663.0    132.6      3.1          total += sum(L)\n",
    "     7         1          1.0      1.0      0.0      return total\n",
    "'''\n"
   ]
  },
  {
   "cell_type": "code",
   "execution_count": null,
   "metadata": {},
   "outputs": [],
   "source": []
  }
 ],
 "metadata": {
  "kernelspec": {
   "display_name": "Python 3",
   "language": "python",
   "name": "python3"
  },
  "language_info": {
   "codemirror_mode": {
    "name": "ipython",
    "version": 3
   },
   "file_extension": ".py",
   "mimetype": "text/x-python",
   "name": "python",
   "nbconvert_exporter": "python",
   "pygments_lexer": "ipython3",
   "version": "3.6.7"
  }
 },
 "nbformat": 4,
 "nbformat_minor": 2
}
