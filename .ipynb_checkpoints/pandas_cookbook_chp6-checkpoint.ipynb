{
 "cells": [
  {
   "cell_type": "code",
   "execution_count": 2,
   "metadata": {},
   "outputs": [],
   "source": [
    "#indexing\n",
    "import numpy as np \n",
    "import pandas as pd \n",
    "import matplotlib.pyplot as plt"
   ]
  },
  {
   "cell_type": "code",
   "execution_count": 3,
   "metadata": {},
   "outputs": [],
   "source": [
    "#All indexes except MultiIndex are 1-D Data structures --. combining functionality of Python set and ndarrays\n",
    "#indexes are immutable and cannot be changed\n",
    "#indexes are similar to Python sets - implemented using hash tables.\n",
    "\n",
    "college = pd.read_csv('data/college.csv')\n",
    "cols = college.columns\n",
    "rws = college.values"
   ]
  },
  {
   "cell_type": "code",
   "execution_count": 10,
   "metadata": {},
   "outputs": [
    {
     "data": {
      "text/plain": [
       "a    1.0\n",
       "a    2.0\n",
       "a    3.0\n",
       "a    4.0\n",
       "a    2.0\n",
       "a    3.0\n",
       "a    4.0\n",
       "a    5.0\n",
       "a    3.0\n",
       "a    4.0\n",
       "a    5.0\n",
       "a    6.0\n",
       "b    8.0\n",
       "c    NaN\n",
       "dtype: float64"
      ]
     },
     "execution_count": 10,
     "metadata": {},
     "output_type": "execute_result"
    }
   ],
   "source": [
    "#cartesian product\n",
    "\n",
    "s1 = pd.Series(index = list('aaab'), data = np.arange(4))\n",
    "s2 = pd.Series(index = list('caaaab'), data = np.arange(6))\n",
    "\n",
    "s1 + s2 "
   ]
  },
  {
   "cell_type": "code",
   "execution_count": 13,
   "metadata": {},
   "outputs": [
    {
     "data": {
      "text/plain": [
       "a    6\n",
       "a    7\n",
       "a    7\n",
       "a    8\n",
       "b    6\n",
       "b    7\n",
       "b    7\n",
       "b    8\n",
       "c    6\n",
       "c    7\n",
       "c    7\n",
       "c    8\n",
       "d    6\n",
       "d    7\n",
       "d    7\n",
       "d    8\n",
       "dtype: int32"
      ]
     },
     "execution_count": 13,
     "metadata": {},
     "output_type": "execute_result"
    }
   ],
   "source": [
    "#no cartesian product\n",
    "s1 = pd.Series(index = list('aabbccdd'), data = np.arange(8))\n",
    "s2 = pd.Series(index = list('aabbccdd'), data = np.arange(8))\n",
    "s1 + s2 \n",
    "\n",
    "#cartesian product\n",
    "s1 = pd.Series(index = list('aabbccdd'), data = np.arange(8))\n",
    "s2 = pd.Series(index = list('ddccbbaa'), data = np.arange(8))\n",
    "s1 + s2 \n"
   ]
  },
  {
   "cell_type": "code",
   "execution_count": 16,
   "metadata": {},
   "outputs": [
    {
     "data": {
      "text/html": [
       "<div>\n",
       "<style scoped>\n",
       "    .dataframe tbody tr th:only-of-type {\n",
       "        vertical-align: middle;\n",
       "    }\n",
       "\n",
       "    .dataframe tbody tr th {\n",
       "        vertical-align: top;\n",
       "    }\n",
       "\n",
       "    .dataframe thead th {\n",
       "        text-align: right;\n",
       "    }\n",
       "</style>\n",
       "<table border=\"1\" class=\"dataframe\">\n",
       "  <thead>\n",
       "    <tr style=\"text-align: right;\">\n",
       "      <th></th>\n",
       "      <th>UNIQUE_ID</th>\n",
       "      <th>POSITION_TITLE</th>\n",
       "      <th>DEPARTMENT</th>\n",
       "      <th>BASE_SALARY</th>\n",
       "      <th>EMPLOYMENT_TYPE</th>\n",
       "      <th>GENDER</th>\n",
       "      <th>EMPLOYMENT_STATUS</th>\n",
       "      <th>HIRE_DATE</th>\n",
       "      <th>JOB_DATE</th>\n",
       "    </tr>\n",
       "    <tr>\n",
       "      <th>RACE</th>\n",
       "      <th></th>\n",
       "      <th></th>\n",
       "      <th></th>\n",
       "      <th></th>\n",
       "      <th></th>\n",
       "      <th></th>\n",
       "      <th></th>\n",
       "      <th></th>\n",
       "      <th></th>\n",
       "    </tr>\n",
       "  </thead>\n",
       "  <tbody>\n",
       "    <tr>\n",
       "      <th>Hispanic/Latino</th>\n",
       "      <td>0</td>\n",
       "      <td>ASSISTANT DIRECTOR (EX LVL)</td>\n",
       "      <td>Municipal Courts Department</td>\n",
       "      <td>121862.0</td>\n",
       "      <td>Full Time</td>\n",
       "      <td>Female</td>\n",
       "      <td>Active</td>\n",
       "      <td>2006-06-12</td>\n",
       "      <td>2012-10-13</td>\n",
       "    </tr>\n",
       "    <tr>\n",
       "      <th>Hispanic/Latino</th>\n",
       "      <td>1</td>\n",
       "      <td>LIBRARY ASSISTANT</td>\n",
       "      <td>Library</td>\n",
       "      <td>26125.0</td>\n",
       "      <td>Full Time</td>\n",
       "      <td>Female</td>\n",
       "      <td>Active</td>\n",
       "      <td>2000-07-19</td>\n",
       "      <td>2010-09-18</td>\n",
       "    </tr>\n",
       "    <tr>\n",
       "      <th>White</th>\n",
       "      <td>2</td>\n",
       "      <td>POLICE OFFICER</td>\n",
       "      <td>Houston Police Department-HPD</td>\n",
       "      <td>45279.0</td>\n",
       "      <td>Full Time</td>\n",
       "      <td>Male</td>\n",
       "      <td>Active</td>\n",
       "      <td>2015-02-03</td>\n",
       "      <td>2015-02-03</td>\n",
       "    </tr>\n",
       "    <tr>\n",
       "      <th>White</th>\n",
       "      <td>3</td>\n",
       "      <td>ENGINEER/OPERATOR</td>\n",
       "      <td>Houston Fire Department (HFD)</td>\n",
       "      <td>63166.0</td>\n",
       "      <td>Full Time</td>\n",
       "      <td>Male</td>\n",
       "      <td>Active</td>\n",
       "      <td>1982-02-08</td>\n",
       "      <td>1991-05-25</td>\n",
       "    </tr>\n",
       "    <tr>\n",
       "      <th>White</th>\n",
       "      <td>4</td>\n",
       "      <td>ELECTRICIAN</td>\n",
       "      <td>General Services Department</td>\n",
       "      <td>56347.0</td>\n",
       "      <td>Full Time</td>\n",
       "      <td>Male</td>\n",
       "      <td>Active</td>\n",
       "      <td>1989-06-19</td>\n",
       "      <td>1994-10-22</td>\n",
       "    </tr>\n",
       "  </tbody>\n",
       "</table>\n",
       "</div>"
      ],
      "text/plain": [
       "                 UNIQUE_ID               POSITION_TITLE  \\\n",
       "RACE                                                      \n",
       "Hispanic/Latino          0  ASSISTANT DIRECTOR (EX LVL)   \n",
       "Hispanic/Latino          1            LIBRARY ASSISTANT   \n",
       "White                    2               POLICE OFFICER   \n",
       "White                    3            ENGINEER/OPERATOR   \n",
       "White                    4                  ELECTRICIAN   \n",
       "\n",
       "                                    DEPARTMENT  BASE_SALARY EMPLOYMENT_TYPE  \\\n",
       "RACE                                                                          \n",
       "Hispanic/Latino    Municipal Courts Department     121862.0       Full Time   \n",
       "Hispanic/Latino                        Library      26125.0       Full Time   \n",
       "White            Houston Police Department-HPD      45279.0       Full Time   \n",
       "White            Houston Fire Department (HFD)      63166.0       Full Time   \n",
       "White              General Services Department      56347.0       Full Time   \n",
       "\n",
       "                 GENDER EMPLOYMENT_STATUS   HIRE_DATE    JOB_DATE  \n",
       "RACE                                                               \n",
       "Hispanic/Latino  Female            Active  2006-06-12  2012-10-13  \n",
       "Hispanic/Latino  Female            Active  2000-07-19  2010-09-18  \n",
       "White              Male            Active  2015-02-03  2015-02-03  \n",
       "White              Male            Active  1982-02-08  1991-05-25  \n",
       "White              Male            Active  1989-06-19  1994-10-22  "
      ]
     },
     "execution_count": 16,
     "metadata": {},
     "output_type": "execute_result"
    }
   ],
   "source": [
    "#exploding indexes\n",
    "#adding 2 large series that hve indexes with few missing values\n",
    "\n",
    "employee = pd.read_csv('data/employee.csv', index_col = 'RACE')\n",
    "employee.head()"
   ]
  },
  {
   "cell_type": "code",
   "execution_count": 26,
   "metadata": {},
   "outputs": [
    {
     "data": {
      "text/plain": [
       "1175424"
      ]
     },
     "execution_count": 26,
     "metadata": {},
     "output_type": "execute_result"
    }
   ],
   "source": [
    "salary1 = employee['BASE_SALARY'].copy()\n",
    "salary2 = employee['BASE_SALARY'].copy()\n",
    "salary1.equals(salary2)\n",
    "salary1 = salary1.sort_index()\n",
    "salary_add = salary1 + salary2\n",
    "salary_add.head()\n",
    "len(salary_add) #exploding indexes.. the cartesian products"
   ]
  },
  {
   "cell_type": "code",
   "execution_count": null,
   "metadata": {},
   "outputs": [],
   "source": []
  }
 ],
 "metadata": {
  "kernelspec": {
   "display_name": "Python 3",
   "language": "python",
   "name": "python3"
  },
  "language_info": {
   "codemirror_mode": {
    "name": "ipython",
    "version": 3
   },
   "file_extension": ".py",
   "mimetype": "text/x-python",
   "name": "python",
   "nbconvert_exporter": "python",
   "pygments_lexer": "ipython3",
   "version": "3.6.7"
  }
 },
 "nbformat": 4,
 "nbformat_minor": 2
}
